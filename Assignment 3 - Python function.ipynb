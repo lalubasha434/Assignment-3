{
 "cells": [
  {
   "cell_type": "markdown",
   "metadata": {},
   "source": [
    "## Problem Statement"
   ]
  },
  {
   "cell_type": "markdown",
   "metadata": {},
   "source": [
    "Q.1 Write a function to compute 5/0 and use try/except to catch the exceptions."
   ]
  },
  {
   "cell_type": "code",
   "execution_count": 1,
   "metadata": {},
   "outputs": [
    {
     "name": "stdout",
     "output_type": "stream",
     "text": [
      "Taken care of dividing a number by 'ZERO' using Try and Except\n"
     ]
    }
   ],
   "source": [
    "def Division_with_zero():\n",
    "    return 5/0\n",
    "\n",
    "try:\n",
    "    Division_with_zero()\n",
    "    \n",
    "except ZeroDivisionError as zero:\n",
    "    print(\"Taken care of dividing a number by 'ZERO' using Try and Except\")"
   ]
  },
  {
   "cell_type": "markdown",
   "metadata": {},
   "source": [
    "Q.2 Implement a Python program to generate all sentences where subject is in [\"Americans\",\n",
    "\"Indians\"] and verb is in [\"Play\", \"watch\"] and the object is in [\"Baseball\",\"cricket\"].\n",
    "\n",
    "    Hint: Subject,Verb and Object should be declared in the program as shown below.\n",
    "    subjects=[\"Americans \",\"Indians\"]\n",
    "    verbs=[\"play\",\"watch\"]\n",
    "    objects=[\"Baseball\",\"Cricket\"]\n",
    "\n",
    "    Output should come as below:\n",
    "    Americans play Baseball.\n",
    "    Americans play Cricket.\n",
    "    Americans watch Baseball.\n",
    "    Americans watch Cricket.\n",
    "    Indians play Baseball.\n",
    "    Indians play Cricket.\n",
    "    Indians watch Baseball.\n",
    "    Indians watch Cricket."
   ]
  },
  {
   "cell_type": "code",
   "execution_count": 2,
   "metadata": {},
   "outputs": [
    {
     "name": "stdout",
     "output_type": "stream",
     "text": [
      "\n",
      " \"Method-1 Output:\" \n",
      "Americans Play Baseball.\n",
      "Americans Play Cricket.\n",
      "Americans watch Baseball.\n",
      "Americans watch Cricket.\n",
      "Indians Play Baseball.\n",
      "Indians Play Cricket.\n",
      "Indians watch Baseball.\n",
      "Indians watch Cricket.\n",
      "\n",
      " \"Method-2 Output:\" \n",
      "Americans Play Baseball.\n",
      "Americans Play Cricket.\n",
      "Americans watch Baseball.\n",
      "Americans watch Cricket.\n",
      "Indians Play Baseball.\n",
      "Indians Play Cricket.\n",
      "Indians watch Baseball.\n",
      "Indians watch Cricket.\n"
     ]
    }
   ],
   "source": [
    "subjects=[\"Americans\", \"Indians\"]\n",
    "verbs=[\"Play\", \"watch\"]\n",
    "objects=[\"Baseball\",\"Cricket\"]\n",
    "\n",
    "''' Method-1: Using nested for loop on each list for sentence formation '''\n",
    "\n",
    "print('\\n \"Method-1 Output:\" ')\n",
    "\n",
    "for sub in subjects:\n",
    "    for vrb in verbs:\n",
    "        for obj in objects:\n",
    "            sentences_list = [(sub + \" \" + vrb + \" \" + obj + \".\")]\n",
    "            print(*sentences_list)\n",
    "\n",
    "''' Method-2: Using list comprehension instead of looping on each list for sentence formation'''            \n",
    "print('\\n \"Method-2 Output:\" ')\n",
    "\n",
    "sentences_list = [(sub+\" \"+ vrb + \" \" + obj + \".\") for sub in subjects for vrb in verbs for obj in objects]\n",
    "for sentence in sentences_list:\n",
    "    print(sentence)"
   ]
  },
  {
   "cell_type": "markdown",
   "metadata": {},
   "source": [
    "Q.3 Write a function so that the columns of the output matrix are powers of the input vector.\n",
    "The order of the powers is determined by the increasing boolean argument. Specifically, when\n",
    "increasing is False, the i-th output column is the input vector raised element-wise to the power\n",
    "of N - i - 1.\n",
    "\n",
    "    HINT: Such a matrix with a geometric progression in each row is named for Alexandre Theophile Vandermonde."
   ]
  },
  {
   "cell_type": "code",
   "execution_count": 5,
   "metadata": {},
   "outputs": [
    {
     "name": "stdout",
     "output_type": "stream",
     "text": [
      "The input array is: [1 2 3 4 5] \n",
      "\n",
      "Number of columns in output matrix restricted / used to be: 4 \n",
      "\n",
      "Alexandre Theophile Vandermonde matrix of the input array in decreasing order of powers:\n",
      "\n",
      " [[  1   1   1   1]\n",
      " [  8   4   2   1]\n",
      " [ 27   9   3   1]\n",
      " [ 64  16   4   1]\n",
      " [125  25   5   1]] \n",
      "\n",
      "Alexandre Theophile Vandermonde matrix of the input array in increasing order of powers:\n",
      "\n",
      " [[  1   1   1   1]\n",
      " [  1   2   4   8]\n",
      " [  1   3   9  27]\n",
      " [  1   4  16  64]\n",
      " [  1   5  25 125]] \n",
      " \n",
      "\n",
      "---------------------------------------------------------------\n",
      " \n",
      "\n",
      "The input array is: [1 2 3 4 5 6 7] \n",
      "\n",
      "Number of columns in output matrix restricted / used be: 6 \n",
      "\n",
      "Alexandre Theophile Vandermonde matrix of the input array in decreasing order of powers:\n",
      "\n",
      " [[    1     1     1     1     1     1]\n",
      " [   32    16     8     4     2     1]\n",
      " [  243    81    27     9     3     1]\n",
      " [ 1024   256    64    16     4     1]\n",
      " [ 3125   625   125    25     5     1]\n",
      " [ 7776  1296   216    36     6     1]\n",
      " [16807  2401   343    49     7     1]] \n",
      "\n",
      "Alexandre Theophile Vandermonde matrix of the input array in increasing order of powers:\n",
      "\n",
      " [[    1     1     1     1     1     1]\n",
      " [    1     2     4     8    16    32]\n",
      " [    1     3     9    27    81   243]\n",
      " [    1     4    16    64   256  1024]\n",
      " [    1     5    25   125   625  3125]\n",
      " [    1     6    36   216  1296  7776]\n",
      " [    1     7    49   343  2401 16807]] \n",
      "\n"
     ]
    }
   ],
   "source": [
    "import numpy as np\n",
    "\n",
    "'''To generate Alexandre Theophile Vandermonde Matrix, Need to iterate over each number in the input vector n times, \n",
    "n being the number of columns in the o/p matrix and output an intermediate vector. Use diff order formula based on \n",
    "increasing and decreasing condition.'''\n",
    "   \n",
    "def generate_vandermonde_matrix(input_vector, N, increasing=False):\n",
    "    \n",
    "    if not increasing:\n",
    "        output_matrix = np.array([x**(N-1-i) for x in input_vector for i in range(N)]).reshape(input_vector.size,N)\n",
    "        \n",
    "    elif increasing:\n",
    "         output_matrix = np.array([x**i for x in input_vector for i in range(N)]).reshape(input_vector.size,N)\n",
    "    \n",
    "    return output_matrix\n",
    "\n",
    "\n",
    "input_vector = np.array([1,2,3,4,5])\n",
    "no_of_col = 4\n",
    "output_matrix_dec_order = generate_vandermonde_matrix(input_vector,no_of_col,False)\n",
    "output_matrix_inc_order = generate_vandermonde_matrix(input_vector,no_of_col,True)\n",
    "\n",
    "print(\"The input array is:\",input_vector,\"\\n\")\n",
    "print(\"Number of columns in output matrix restricted / used to be:\",no_of_col,\"\\n\")\n",
    "print(\"Alexandre Theophile Vandermonde matrix of the input array in decreasing order of powers:\\n\\n\",output_matrix_dec_order,\"\\n\")\n",
    "print(\"Alexandre Theophile Vandermonde matrix of the input array in increasing order of powers:\\n\\n\",output_matrix_inc_order,\"\\n \\n\")\n",
    "\n",
    "input_vector = np.array([1,2,3,4,5,6,7])\n",
    "no_of_col = 6\n",
    "output_matrix_dec_order = generate_vandermonde_matrix(input_vector,no_of_col,False)\n",
    "output_matrix_inc_order = generate_vandermonde_matrix(input_vector,no_of_col,True)\n",
    "\n",
    "print(\"---------------------------------------------------------------\\n \\n\")\n",
    "print(\"The input array is:\",input_vector,\"\\n\")\n",
    "print(\"Number of columns in output matrix restricted / used be:\",no_of_col,\"\\n\")\n",
    "print(\"Alexandre Theophile Vandermonde matrix of the input array in decreasing order of powers:\\n\\n\",output_matrix_dec_order,\"\\n\")\n",
    "print(\"Alexandre Theophile Vandermonde matrix of the input array in increasing order of powers:\\n\\n\",output_matrix_inc_order,\"\\n\")"
   ]
  },
  {
   "cell_type": "code",
   "execution_count": null,
   "metadata": {},
   "outputs": [],
   "source": []
  }
 ],
 "metadata": {
  "kernelspec": {
   "display_name": "Python 3",
   "language": "python",
   "name": "python3"
  },
  "language_info": {
   "codemirror_mode": {
    "name": "ipython",
    "version": 3
   },
   "file_extension": ".py",
   "mimetype": "text/x-python",
   "name": "python",
   "nbconvert_exporter": "python",
   "pygments_lexer": "ipython3",
   "version": "3.7.4"
  }
 },
 "nbformat": 4,
 "nbformat_minor": 2
}
